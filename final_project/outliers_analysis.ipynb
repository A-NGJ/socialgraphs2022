{
 "cells": [
  {
   "cell_type": "code",
   "execution_count": 38,
   "metadata": {},
   "outputs": [],
   "source": [
    "import pickle\n",
    "\n",
    "from datautils import datautils"
   ]
  },
  {
   "cell_type": "code",
   "execution_count": 39,
   "metadata": {},
   "outputs": [],
   "source": [
    "loader = datautils.Loader()\n",
    "loader.load(\"data/characters/\")\n",
    "data = loader.to_dataframe()\n",
    "loader.drop()"
   ]
  },
  {
   "cell_type": "code",
   "execution_count": 40,
   "metadata": {},
   "outputs": [
    {
     "data": {
      "text/html": [
       "<div>\n",
       "<style scoped>\n",
       "    .dataframe tbody tr th:only-of-type {\n",
       "        vertical-align: middle;\n",
       "    }\n",
       "\n",
       "    .dataframe tbody tr th {\n",
       "        vertical-align: top;\n",
       "    }\n",
       "\n",
       "    .dataframe thead th {\n",
       "        text-align: right;\n",
       "    }\n",
       "</style>\n",
       "<table border=\"1\" class=\"dataframe\">\n",
       "  <thead>\n",
       "    <tr style=\"text-align: right;\">\n",
       "      <th></th>\n",
       "      <th>Name</th>\n",
       "      <th>DisplayName</th>\n",
       "      <th>Content</th>\n",
       "      <th>Crosslinks</th>\n",
       "      <th>Species</th>\n",
       "      <th>Gender</th>\n",
       "      <th>Affiliation(s)</th>\n",
       "      <th>Homeworld</th>\n",
       "      <th>Died</th>\n",
       "    </tr>\n",
       "  </thead>\n",
       "  <tbody>\n",
       "    <tr>\n",
       "      <th>0</th>\n",
       "      <td>%22Blue%22_Imcrix</td>\n",
       "      <td>\"Blue\" Imcrix</td>\n",
       "      <td>\"Blue\" Imcrix was an infamous male Taloron cri...</td>\n",
       "      <td>[Star_Wars_Legends, Taloron, Gender/Legends, C...</td>\n",
       "      <td>Taloron</td>\n",
       "      <td>Male</td>\n",
       "      <td>NaN</td>\n",
       "      <td>NaN</td>\n",
       "      <td>NaN</td>\n",
       "    </tr>\n",
       "    <tr>\n",
       "      <th>1</th>\n",
       "      <td>%22Fugitive%22_Fod</td>\n",
       "      <td>\"Fugitive\" Fod</td>\n",
       "      <td>\"Fugitive\" Fod was a male Yuzzum from Endor wh...</td>\n",
       "      <td>[Star_Wars_Legends, Endor/Legends, Yuzzum/Lege...</td>\n",
       "      <td>Yuzzum</td>\n",
       "      <td>Male</td>\n",
       "      <td>NaN</td>\n",
       "      <td>Endor</td>\n",
       "      <td>NaN</td>\n",
       "    </tr>\n",
       "    <tr>\n",
       "      <th>2</th>\n",
       "      <td>%22Shady%22_Pers</td>\n",
       "      <td>\"Shady\" Pers</td>\n",
       "      <td>\"Shady\" Pers was a male Human smuggler living ...</td>\n",
       "      <td>[Star_Wars_Legends, Kashyyyk/Legends, Human/Le...</td>\n",
       "      <td>Human</td>\n",
       "      <td>Male</td>\n",
       "      <td>[Myyydril]</td>\n",
       "      <td>Kashyyyk</td>\n",
       "      <td>NaN</td>\n",
       "    </tr>\n",
       "    <tr>\n",
       "      <th>3</th>\n",
       "      <td>%27Ndranth_Poussan</td>\n",
       "      <td>'Ndranth Poussan</td>\n",
       "      <td>'Ndranth Poussan was a Human male starfighter ...</td>\n",
       "      <td>[Star_Wars_Legends, Wookieepedia:Good_articles...</td>\n",
       "      <td>Human</td>\n",
       "      <td>Male</td>\n",
       "      <td>[Agamar Resistance, Alliance to Restore the Re...</td>\n",
       "      <td>Agamar</td>\n",
       "      <td>[1 BBY, near Brigia]</td>\n",
       "    </tr>\n",
       "    <tr>\n",
       "      <th>4</th>\n",
       "      <td>0761</td>\n",
       "      <td>0761</td>\n",
       "      <td>0761 was a stormtrooper who was stationed on C...</td>\n",
       "      <td>[Star_Wars_Legends, 5_ABY/Legends, Ciutric_IV,...</td>\n",
       "      <td>Human</td>\n",
       "      <td>Male</td>\n",
       "      <td>[Galactic EmpireStormtrooper Corps, Stormtroop...</td>\n",
       "      <td>NaN</td>\n",
       "      <td>[5 ABY, Ciutric IV]</td>\n",
       "    </tr>\n",
       "  </tbody>\n",
       "</table>\n",
       "</div>"
      ],
      "text/plain": [
       "                 Name       DisplayName  \\\n",
       "0   %22Blue%22_Imcrix     \"Blue\" Imcrix   \n",
       "1  %22Fugitive%22_Fod    \"Fugitive\" Fod   \n",
       "2    %22Shady%22_Pers      \"Shady\" Pers   \n",
       "3  %27Ndranth_Poussan  'Ndranth Poussan   \n",
       "4                0761              0761   \n",
       "\n",
       "                                             Content  \\\n",
       "0  \"Blue\" Imcrix was an infamous male Taloron cri...   \n",
       "1  \"Fugitive\" Fod was a male Yuzzum from Endor wh...   \n",
       "2  \"Shady\" Pers was a male Human smuggler living ...   \n",
       "3  'Ndranth Poussan was a Human male starfighter ...   \n",
       "4  0761 was a stormtrooper who was stationed on C...   \n",
       "\n",
       "                                          Crosslinks  Species Gender  \\\n",
       "0  [Star_Wars_Legends, Taloron, Gender/Legends, C...  Taloron   Male   \n",
       "1  [Star_Wars_Legends, Endor/Legends, Yuzzum/Lege...   Yuzzum   Male   \n",
       "2  [Star_Wars_Legends, Kashyyyk/Legends, Human/Le...    Human   Male   \n",
       "3  [Star_Wars_Legends, Wookieepedia:Good_articles...    Human   Male   \n",
       "4  [Star_Wars_Legends, 5_ABY/Legends, Ciutric_IV,...    Human   Male   \n",
       "\n",
       "                                      Affiliation(s) Homeworld  \\\n",
       "0                                                NaN       NaN   \n",
       "1                                                NaN     Endor   \n",
       "2                                         [Myyydril]  Kashyyyk   \n",
       "3  [Agamar Resistance, Alliance to Restore the Re...    Agamar   \n",
       "4  [Galactic EmpireStormtrooper Corps, Stormtroop...       NaN   \n",
       "\n",
       "                   Died  \n",
       "0                   NaN  \n",
       "1                   NaN  \n",
       "2                   NaN  \n",
       "3  [1 BBY, near Brigia]  \n",
       "4   [5 ABY, Ciutric IV]  "
      ]
     },
     "execution_count": 40,
     "metadata": {},
     "output_type": "execute_result"
    }
   ],
   "source": [
    "data.head()"
   ]
  },
  {
   "cell_type": "code",
   "execution_count": 41,
   "metadata": {},
   "outputs": [
    {
     "data": {
      "text/plain": [
       "29435"
      ]
     },
     "execution_count": 41,
     "metadata": {},
     "output_type": "execute_result"
    }
   ],
   "source": [
    "with open('graph/universe.pickle', 'rb') as f:\n",
    "    Universe = pickle.load(f)\n",
    "len(Universe.nodes())"
   ]
  },
  {
   "cell_type": "code",
   "execution_count": 42,
   "metadata": {},
   "outputs": [
    {
     "data": {
      "text/plain": [
       "6462"
      ]
     },
     "execution_count": 42,
     "metadata": {},
     "output_type": "execute_result"
    }
   ],
   "source": [
    "outliers = [node for node in Universe.nodes() if Universe.degree(node) == 0]\n",
    "len(outliers)"
   ]
  },
  {
   "cell_type": "code",
   "execution_count": 43,
   "metadata": {},
   "outputs": [
    {
     "data": {
      "text/html": [
       "<div>\n",
       "<style scoped>\n",
       "    .dataframe tbody tr th:only-of-type {\n",
       "        vertical-align: middle;\n",
       "    }\n",
       "\n",
       "    .dataframe tbody tr th {\n",
       "        vertical-align: top;\n",
       "    }\n",
       "\n",
       "    .dataframe thead th {\n",
       "        text-align: right;\n",
       "    }\n",
       "</style>\n",
       "<table border=\"1\" class=\"dataframe\">\n",
       "  <thead>\n",
       "    <tr style=\"text-align: right;\">\n",
       "      <th></th>\n",
       "      <th>Name</th>\n",
       "      <th>DisplayName</th>\n",
       "      <th>Content</th>\n",
       "      <th>Crosslinks</th>\n",
       "      <th>Species</th>\n",
       "      <th>Gender</th>\n",
       "      <th>Affiliation(s)</th>\n",
       "      <th>Homeworld</th>\n",
       "      <th>Died</th>\n",
       "    </tr>\n",
       "  </thead>\n",
       "  <tbody>\n",
       "    <tr>\n",
       "      <th>0</th>\n",
       "      <td>%22Blue%22_Imcrix</td>\n",
       "      <td>\"Blue\" Imcrix</td>\n",
       "      <td>\"Blue\" Imcrix was an infamous male Taloron cri...</td>\n",
       "      <td>[Star_Wars_Legends, Taloron, Gender/Legends, C...</td>\n",
       "      <td>Taloron</td>\n",
       "      <td>Male</td>\n",
       "      <td>NaN</td>\n",
       "      <td>NaN</td>\n",
       "      <td>NaN</td>\n",
       "    </tr>\n",
       "    <tr>\n",
       "      <th>1</th>\n",
       "      <td>%22Fugitive%22_Fod</td>\n",
       "      <td>\"Fugitive\" Fod</td>\n",
       "      <td>\"Fugitive\" Fod was a male Yuzzum from Endor wh...</td>\n",
       "      <td>[Star_Wars_Legends, Endor/Legends, Yuzzum/Lege...</td>\n",
       "      <td>Yuzzum</td>\n",
       "      <td>Male</td>\n",
       "      <td>NaN</td>\n",
       "      <td>Endor</td>\n",
       "      <td>NaN</td>\n",
       "    </tr>\n",
       "    <tr>\n",
       "      <th>3</th>\n",
       "      <td>%27Ndranth_Poussan</td>\n",
       "      <td>'Ndranth Poussan</td>\n",
       "      <td>'Ndranth Poussan was a Human male starfighter ...</td>\n",
       "      <td>[Star_Wars_Legends, Wookieepedia:Good_articles...</td>\n",
       "      <td>Human</td>\n",
       "      <td>Male</td>\n",
       "      <td>[Agamar Resistance, Alliance to Restore the Re...</td>\n",
       "      <td>Agamar</td>\n",
       "      <td>[1 BBY, near Brigia]</td>\n",
       "    </tr>\n",
       "    <tr>\n",
       "      <th>4</th>\n",
       "      <td>0761</td>\n",
       "      <td>0761</td>\n",
       "      <td>0761 was a stormtrooper who was stationed on C...</td>\n",
       "      <td>[Star_Wars_Legends, 5_ABY/Legends, Ciutric_IV,...</td>\n",
       "      <td>Human</td>\n",
       "      <td>Male</td>\n",
       "      <td>[Galactic EmpireStormtrooper Corps, Stormtroop...</td>\n",
       "      <td>NaN</td>\n",
       "      <td>[5 ABY, Ciutric IV]</td>\n",
       "    </tr>\n",
       "    <tr>\n",
       "      <th>7</th>\n",
       "      <td>1138_(First_Order)</td>\n",
       "      <td>1138  (First Order)</td>\n",
       "      <td>1138 was a human male stormtrooper who served ...</td>\n",
       "      <td>[Canon, 1138, Special:Upload, Human, Gender, F...</td>\n",
       "      <td>Human</td>\n",
       "      <td>Male</td>\n",
       "      <td>[First Order, Stormtrooper Corps, Stormtrooper...</td>\n",
       "      <td>NaN</td>\n",
       "      <td>NaN</td>\n",
       "    </tr>\n",
       "  </tbody>\n",
       "</table>\n",
       "</div>"
      ],
      "text/plain": [
       "                 Name          DisplayName  \\\n",
       "0   %22Blue%22_Imcrix        \"Blue\" Imcrix   \n",
       "1  %22Fugitive%22_Fod       \"Fugitive\" Fod   \n",
       "3  %27Ndranth_Poussan     'Ndranth Poussan   \n",
       "4                0761                 0761   \n",
       "7  1138_(First_Order)  1138  (First Order)   \n",
       "\n",
       "                                             Content  \\\n",
       "0  \"Blue\" Imcrix was an infamous male Taloron cri...   \n",
       "1  \"Fugitive\" Fod was a male Yuzzum from Endor wh...   \n",
       "3  'Ndranth Poussan was a Human male starfighter ...   \n",
       "4  0761 was a stormtrooper who was stationed on C...   \n",
       "7  1138 was a human male stormtrooper who served ...   \n",
       "\n",
       "                                          Crosslinks  Species Gender  \\\n",
       "0  [Star_Wars_Legends, Taloron, Gender/Legends, C...  Taloron   Male   \n",
       "1  [Star_Wars_Legends, Endor/Legends, Yuzzum/Lege...   Yuzzum   Male   \n",
       "3  [Star_Wars_Legends, Wookieepedia:Good_articles...    Human   Male   \n",
       "4  [Star_Wars_Legends, 5_ABY/Legends, Ciutric_IV,...    Human   Male   \n",
       "7  [Canon, 1138, Special:Upload, Human, Gender, F...    Human   Male   \n",
       "\n",
       "                                      Affiliation(s) Homeworld  \\\n",
       "0                                                NaN       NaN   \n",
       "1                                                NaN     Endor   \n",
       "3  [Agamar Resistance, Alliance to Restore the Re...    Agamar   \n",
       "4  [Galactic EmpireStormtrooper Corps, Stormtroop...       NaN   \n",
       "7  [First Order, Stormtrooper Corps, Stormtrooper...       NaN   \n",
       "\n",
       "                   Died  \n",
       "0                   NaN  \n",
       "1                   NaN  \n",
       "3  [1 BBY, near Brigia]  \n",
       "4   [5 ABY, Ciutric IV]  \n",
       "7                   NaN  "
      ]
     },
     "execution_count": 43,
     "metadata": {},
     "output_type": "execute_result"
    }
   ],
   "source": [
    "outliers_data = data.loc[data['Name'].isin(outliers)]\n",
    "outliers_data.head()"
   ]
  },
  {
   "cell_type": "code",
   "execution_count": 44,
   "metadata": {},
   "outputs": [
    {
     "data": {
      "text/plain": [
       "3     [Agamar Resistance, Alliance to Restore the Re...\n",
       "4     [Galactic EmpireStormtrooper Corps, Stormtroop...\n",
       "7     [First Order, Stormtrooper Corps, Stormtrooper...\n",
       "12                                    [Galactic Empire]\n",
       "28    [Galactic Republic, Grand Army of the Republic...\n",
       "Name: Affiliation(s), dtype: object"
      ]
     },
     "execution_count": 44,
     "metadata": {},
     "output_type": "execute_result"
    }
   ],
   "source": [
    "outliers_aff_non_nan = outliers_data[\"Affiliation(s)\"].dropna()\n",
    "outliers_aff_non_nan.head()"
   ]
  },
  {
   "cell_type": "code",
   "execution_count": 45,
   "metadata": {},
   "outputs": [
    {
     "data": {
      "text/plain": [
       "Star_Wars_Legends              5850\n",
       "Gender/Legends                 5306\n",
       "Human/Legends                  2855\n",
       "Color/Legends                  2334\n",
       "Wookieepedia:Stub              2176\n",
       "                               ... \n",
       "Hammer_Station                    1\n",
       "Battle_station                    1\n",
       "Mechanical_Liberation_Front       1\n",
       "MerenData/Legends                 1\n",
       "Challenge_37                      1\n",
       "Name: Crosslinks, Length: 16883, dtype: int64"
      ]
     },
     "execution_count": 45,
     "metadata": {},
     "output_type": "execute_result"
    }
   ],
   "source": [
    "outliers_data[\"Crosslinks\"].explode().value_counts()"
   ]
  },
  {
   "cell_type": "code",
   "execution_count": 46,
   "metadata": {},
   "outputs": [
    {
     "data": {
      "text/plain": [
       "Galactic Republic                    622\n",
       "Sith Empire                          487\n",
       "Galactic Empire                      471\n",
       "Alliance to Restore the Republic     301\n",
       "Jedi Order                           269\n",
       "                                    ... \n",
       "Edan Spaceways                         1\n",
       "Corellian Shipbuilders Union           1\n",
       "Galactic EmpireMoff Lasre Dardano      1\n",
       "Moff Lasre Dardano                     1\n",
       "Rebel AllianceArdan resistance         1\n",
       "Name: Affiliation(s), Length: 1476, dtype: int64"
      ]
     },
     "execution_count": 46,
     "metadata": {},
     "output_type": "execute_result"
    }
   ],
   "source": [
    "outliers_aff_non_nan.explode().value_counts()"
   ]
  },
  {
   "cell_type": "code",
   "execution_count": 47,
   "metadata": {},
   "outputs": [
    {
     "data": {
      "image/png": "[encoded data removed]",
      "text/plain": [
       "<Figure size 640x480 with 1 Axes>"
      ]
     },
     "metadata": {},
     "output_type": "display_data"
    }
   ],
   "source": [
    "datautils.plot_series_distribution(outliers_data[\"Gender\"], 2)"
   ]
  },
  {
   "cell_type": "code",
   "execution_count": 48,
   "metadata": {},
   "outputs": [
    {
     "data": {
      "image/png": "[encoded data removed]",
      "text/plain": [
       "<Figure size 640x480 with 1 Axes>"
      ]
     },
     "metadata": {},
     "output_type": "display_data"
    }
   ],
   "source": [
    "datautils.plot_series_distribution(outliers_data[\"Species\"])"
   ]
  },
  {
   "cell_type": "code",
   "execution_count": 49,
   "metadata": {},
   "outputs": [
    {
     "data": {
      "image/png": "[encoded data removed]",
      "text/plain": [
       "<Figure size 640x480 with 1 Axes>"
      ]
     },
     "metadata": {},
     "output_type": "display_data"
    }
   ],
   "source": [
    "datautils.plot_series_distribution(outliers_data[\"Homeworld\"].dropna().astype(str))"
   ]
  }
 ],
 "metadata": {
  "kernelspec": {
   "display_name": "Python 3.10.8 ('socialgraphs')",
   "language": "python",
   "name": "python3"
  },
  "language_info": {
   "codemirror_mode": {
    "name": "ipython",
    "version": 3
   },
   "file_extension": ".py",
   "mimetype": "text/x-python",
   "name": "python",
   "nbconvert_exporter": "python",
   "pygments_lexer": "ipython3",
   "version": "3.10.8"
  },
  "orig_nbformat": 4,
  "vscode": {
   "interpreter": {
    "hash": "4f19d55d5dc894a1d3075b180e0b146278a3b5c8c88763cbd5b2ae679b61322f"
   }
  }
 },
 "nbformat": 4,
 "nbformat_minor": 2
}
