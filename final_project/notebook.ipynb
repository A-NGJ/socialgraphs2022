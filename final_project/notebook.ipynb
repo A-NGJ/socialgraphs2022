{
 "cells": [
  {
   "cell_type": "code",
   "execution_count": 2,
   "metadata": {},
   "outputs": [],
   "source": [
    "import network\n",
    "import re\n",
    "import json"
   ]
  },
  {
   "cell_type": "code",
   "execution_count": 17,
   "metadata": {},
   "outputs": [
    {
     "data": {
      "text/plain": [
       "168284"
      ]
     },
     "execution_count": 17,
     "metadata": {},
     "output_type": "execute_result"
    }
   ],
   "source": [
    "url = \"https://starwars.fandom.com\"\n",
    "pages = network.get_pages(url)\n",
    "pages = {page: url for page, url in pages.items() if re.search(\"wiki\", url)}\n",
    "pages = {page: url for page, url in pages.items() if not re.search(\"Category|Episode|200\\d\", url)}\n",
    "len(pages)"
   ]
  },
  {
   "cell_type": "code",
   "execution_count": 16,
   "metadata": {},
   "outputs": [],
   "source": [
    "with open(\"data/pages.json\", \"w\") as wfile:\n",
    "    json.dump(pages, wfile, indent=2)"
   ]
  }
 ],
 "metadata": {
  "kernelspec": {
   "display_name": "Python 3.10.6 ('02805-starwars')",
   "language": "python",
   "name": "python3"
  },
  "language_info": {
   "codemirror_mode": {
    "name": "ipython",
    "version": 3
   },
   "file_extension": ".py",
   "mimetype": "text/x-python",
   "name": "python",
   "nbconvert_exporter": "python",
   "pygments_lexer": "ipython3",
   "version": "3.10.6"
  },
  "orig_nbformat": 4,
  "vscode": {
   "interpreter": {
    "hash": "936c1a5b037069d3107caaf158cdf876ecfd28ebb5e6d71c7de2c701f9642946"
   }
  }
 },
 "nbformat": 4,
 "nbformat_minor": 2
}
