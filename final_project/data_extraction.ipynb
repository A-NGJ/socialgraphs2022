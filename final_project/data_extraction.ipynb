{
 "cells": [
  {
   "cell_type": "code",
   "execution_count": 6,
   "metadata": {},
   "outputs": [],
   "source": [
    "import pandas as pd\n",
    "import json \n",
    "import pickle\n",
    "from pathlib import Path"
   ]
  },
  {
   "cell_type": "code",
   "execution_count": 7,
   "metadata": {},
   "outputs": [],
   "source": [
    "files = sorted(Path('.\\data\\characters').glob('*.json'))\n",
    "\n",
    "names = []\n",
    "species = []\n",
    "paragraphs = []\n",
    "neighbours = []\n",
    "gender = []\n",
    "\n",
    "data_dict = {}\n",
    "for fn in files:\n",
    "    with open(fn, 'rb') as f:\n",
    "        part = json.load(f)\n",
    "        names.append(part['name'])\n",
    "        \n",
    "        if 'content' in part:\n",
    "            paragraphs.append(part['content'])\n",
    "        else:\n",
    "            paragraphs.append(None)\n",
    "\n",
    "        if 'crosslinks' in part:\n",
    "            crosslinks = []\n",
    "            for link in part['crosslinks']:\n",
    "                crosslinks.append(link.split('/')[-1])\n",
    "            neighbours.append(crosslinks)\n",
    "        else:\n",
    "            crosslinks.append(None)\n",
    "\n",
    "        if 'side_bars' in part:\n",
    "            found_phys_desc = False\n",
    "            for i in part['side_bars']:\n",
    "                if i['name'] == 'Physical description':\n",
    "                    found_phys_desc = True\n",
    "\n",
    "                    found_species = False\n",
    "                    found_gender = False\n",
    "                    for att in i['attributes']:\n",
    "                        if att['name'] == 'Species' and att['values'] is not None:\n",
    "                            species.append(att['values'][0])\n",
    "                            found_species = True                            \n",
    "                        if att['name'] == 'Gender' and att['values'] is not None:\n",
    "                            gender.append(att['values'][0])\n",
    "                            found_gender = True\n",
    "                    if not found_species: species.append(None)\n",
    "                    if not found_gender: gender.append(None)\n",
    "            if not found_phys_desc:\n",
    "                species.append(None)\n",
    "                gender.append(None)\n",
    "        else:\n",
    "            species.append(None)\n",
    "            gender.append(None)"
   ]
  },
  {
   "cell_type": "code",
   "execution_count": 8,
   "metadata": {},
   "outputs": [],
   "source": [
    "data = pd.DataFrame(columns = ['Name', 'Paragraph', 'Neighbours', 'Species', 'Gender'])\n",
    "data['Name'] = names\n",
    "data['Paragraph'] = paragraphs\n",
    "data['Neighbours'] = neighbours\n",
    "data['Species'] = species\n",
    "data['Gender'] = gender"
   ]
  },
  {
   "cell_type": "code",
   "execution_count": 9,
   "metadata": {},
   "outputs": [
    {
     "data": {
      "text/html": [
       "<div>\n",
       "<style scoped>\n",
       "    .dataframe tbody tr th:only-of-type {\n",
       "        vertical-align: middle;\n",
       "    }\n",
       "\n",
       "    .dataframe tbody tr th {\n",
       "        vertical-align: top;\n",
       "    }\n",
       "\n",
       "    .dataframe thead th {\n",
       "        text-align: right;\n",
       "    }\n",
       "</style>\n",
       "<table border=\"1\" class=\"dataframe\">\n",
       "  <thead>\n",
       "    <tr style=\"text-align: right;\">\n",
       "      <th></th>\n",
       "      <th>Name</th>\n",
       "      <th>Paragraph</th>\n",
       "      <th>Neighbours</th>\n",
       "      <th>Species</th>\n",
       "      <th>Gender</th>\n",
       "    </tr>\n",
       "  </thead>\n",
       "  <tbody>\n",
       "    <tr>\n",
       "      <th>0</th>\n",
       "      <td>\"Backdraft\"</td>\n",
       "      <td>\"Backdraft\" was the nickname of a male human T...</td>\n",
       "      <td>[Canon, Human, Gender, Color, First_Order, Fir...</td>\n",
       "      <td>Human</td>\n",
       "      <td>Male</td>\n",
       "    </tr>\n",
       "    <tr>\n",
       "      <th>1</th>\n",
       "      <td>\"Blue\" Imcrix</td>\n",
       "      <td>\"Blue\" Imcrix was an infamous male Taloron cri...</td>\n",
       "      <td>[Star_Wars_Legends, Taloron, Legends, Legends,...</td>\n",
       "      <td>Taloron</td>\n",
       "      <td>Male</td>\n",
       "    </tr>\n",
       "    <tr>\n",
       "      <th>2</th>\n",
       "      <td>\"Blue Five\" (Batuu)</td>\n",
       "      <td>\"Blue Five\" was a female human pilot that flew...</td>\n",
       "      <td>[Canon, Batuu_system, First_Order-Resistance_W...</td>\n",
       "      <td>Human</td>\n",
       "      <td>Female</td>\n",
       "    </tr>\n",
       "    <tr>\n",
       "      <th>3</th>\n",
       "      <td>\"Frog Lady\"</td>\n",
       "      <td>\"Frog Lady\" was the nickname of an amphibious ...</td>\n",
       "      <td>[Canon, Category:Articles_to_be_expanded, Talk...</td>\n",
       "      <td>Unidentified frog-like anthropoid</td>\n",
       "      <td>Female</td>\n",
       "    </tr>\n",
       "    <tr>\n",
       "      <th>4</th>\n",
       "      <td>\"Frog Man\"</td>\n",
       "      <td>\"Frog Man\" was the husband of Frog Lady who li...</td>\n",
       "      <td>[Canon, Unidentified_frog-like_anthropoid, Gen...</td>\n",
       "      <td>Unidentified frog-like anthropoid</td>\n",
       "      <td>Male</td>\n",
       "    </tr>\n",
       "  </tbody>\n",
       "</table>\n",
       "</div>"
      ],
      "text/plain": [
       "                  Name                                          Paragraph  \\\n",
       "0          \"Backdraft\"  \"Backdraft\" was the nickname of a male human T...   \n",
       "1        \"Blue\" Imcrix  \"Blue\" Imcrix was an infamous male Taloron cri...   \n",
       "2  \"Blue Five\" (Batuu)  \"Blue Five\" was a female human pilot that flew...   \n",
       "3          \"Frog Lady\"  \"Frog Lady\" was the nickname of an amphibious ...   \n",
       "4           \"Frog Man\"  \"Frog Man\" was the husband of Frog Lady who li...   \n",
       "\n",
       "                                          Neighbours  \\\n",
       "0  [Canon, Human, Gender, Color, First_Order, Fir...   \n",
       "1  [Star_Wars_Legends, Taloron, Legends, Legends,...   \n",
       "2  [Canon, Batuu_system, First_Order-Resistance_W...   \n",
       "3  [Canon, Category:Articles_to_be_expanded, Talk...   \n",
       "4  [Canon, Unidentified_frog-like_anthropoid, Gen...   \n",
       "\n",
       "                             Species  Gender  \n",
       "0                              Human    Male  \n",
       "1                            Taloron    Male  \n",
       "2                              Human  Female  \n",
       "3  Unidentified frog-like anthropoid  Female  \n",
       "4  Unidentified frog-like anthropoid    Male  "
      ]
     },
     "execution_count": 9,
     "metadata": {},
     "output_type": "execute_result"
    }
   ],
   "source": [
    "data.head(5)"
   ]
  },
  {
   "cell_type": "code",
   "execution_count": 10,
   "metadata": {},
   "outputs": [],
   "source": [
    "with open('./data/data_all.pickle', 'wb') as f:\n",
    "    pickle.dump(data, f, protocol=pickle.HIGHEST_PROTOCOL)"
   ]
  },
  {
   "cell_type": "code",
   "execution_count": null,
   "metadata": {},
   "outputs": [],
   "source": []
  }
 ],
 "metadata": {
  "kernelspec": {
   "display_name": "Python 3.9.13 ('SocialGraphs')",
   "language": "python",
   "name": "python3"
  },
  "language_info": {
   "codemirror_mode": {
    "name": "ipython",
    "version": 3
   },
   "file_extension": ".py",
   "mimetype": "text/x-python",
   "name": "python",
   "nbconvert_exporter": "python",
   "pygments_lexer": "ipython3",
   "version": "3.9.13"
  },
  "orig_nbformat": 4,
  "vscode": {
   "interpreter": {
    "hash": "4c1f5bdf714f7586dbb2671810500ec27dbdd4b4f8d8cec3391c65454f0c171d"
   }
  }
 },
 "nbformat": 4,
 "nbformat_minor": 2
}
